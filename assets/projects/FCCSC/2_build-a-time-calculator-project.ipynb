{
 "cells": [
  {
   "cell_type": "markdown",
   "metadata": {},
   "source": [
    "# Build a Time Calculator Project\n",
    "\n",
    "Write a function named  `add_time`  that takes in two required parameters and one optional parameter:\n",
    "\n",
    "-   a start time in the 12-hour clock format (ending in AM or PM)\n",
    "-   a duration time that indicates the number of hours and minutes\n",
    "-   (optional) a starting day of the week, case insensitive\n",
    "\n",
    "The function should add the duration time to the start time and return the result.\n",
    "\n",
    "If the result will be the next day, it should show  `(next day)`  after the time. If the result will be more than one day later, it should show  `(n days later)`  after the time, where \"n\" is the number of days later.\n",
    "\n",
    "If the function is given the optional starting day of the week parameter, then the output should display the day of the week of the result. The day of the week in the output should appear after the time and before the number of days later.\n",
    "\n",
    "Below are some examples of different cases the function should handle. Pay close attention to the spacing and punctuation of the results.\n",
    "\n",
    "```py\n",
    "add_time('3:00 PM', '3:10')\n",
    "# Returns: 6:10 PM\n",
    "\n",
    "add_time('11:30 AM', '2:32', 'Monday')\n",
    "# Returns: 2:02 PM, Monday\n",
    "\n",
    "add_time('11:43 AM', '00:20')\n",
    "# Returns: 12:03 PM\n",
    "\n",
    "add_time('10:10 PM', '3:30')\n",
    "# Returns: 1:40 AM (next day)\n",
    "\n",
    "add_time('11:43 PM', '24:20', 'tueSday')\n",
    "# Returns: 12:03 AM, Thursday (2 days later)\n",
    "\n",
    "add_time('6:30 PM', '205:12')\n",
    "# Returns: 7:42 AM (9 days later)\n",
    "\n",
    "```\n",
    "\n",
    "Do not import any Python libraries. Assume that the start times are valid times. The minutes in the duration time will be a whole number less than 60, but the hour can be any whole number."
   ]
  },
  {
   "cell_type": "markdown",
   "metadata": {},
   "source": [
    "\n",
    "## Tests\n",
    "\n",
    "1. Calling  `add_time('3:30 PM', '2:12')`  should return  `'5:42 PM'`.\n",
    "    \n",
    "2. Calling  `add_time('11:55 AM', '3:12')`  should return  `'3:07 PM'`.\n",
    "    \n",
    "3. Expected time to end with  `'(next day)'`  when it is the next day.\n",
    "    \n",
    "4. Expected period to change from  `AM`  to  `PM`  at  `12:00`.\n",
    "    \n",
    "5. Calling  `add_time('2:59 AM', '24:00')`  should return  `'2:59 AM (next day)'`.\n",
    "    \n",
    "6. Calling  `add_time('11:59 PM', '24:05')`  should return  `'12:04 AM (2 days later)'`.\n",
    "    \n",
    "7. Calling  `add_time('8:16 PM', '466:02')`  should return  `'6:18 AM (20 days later)'`.\n",
    "    \n",
    "8. Expected adding  `0:00`  to return the initial time.\n",
    "    \n",
    "9. Calling  `add_time('3:30 PM', '2:12', 'Monday')`should return  `'5:42 PM, Monday'`.\n",
    "    \n",
    "10. Calling  `add_time('2:59 AM', '24:00', 'saturDay')`  should return  `'2:59 AM, Sunday (next day)'`.\n",
    "    \n",
    "11. Calling  `add_time('11:59 PM', '24:05', 'Wednesday')`  should return  `'12:04 AM, Friday (2 days later)'`.\n",
    "    \n",
    "12. Calling  `add_time('8:16 PM', '466:02', 'tuesday')` should return  `'6:18 AM, Monday (20 days later)'`."
   ]
  },
  {
   "cell_type": "markdown",
   "metadata": {},
   "source": [
    "# My Solution"
   ]
  },
  {
   "cell_type": "code",
   "execution_count": null,
   "metadata": {},
   "outputs": [
    {
     "data": {
      "text/plain": [
       "'6:10 PM'"
      ]
     },
     "execution_count": 228,
     "metadata": {},
     "output_type": "execute_result"
    },
    {
     "data": {
      "text/plain": [
       "'2:02 PM, Monday'"
      ]
     },
     "execution_count": 228,
     "metadata": {},
     "output_type": "execute_result"
    },
    {
     "data": {
      "text/plain": [
       "'12:03 PM'"
      ]
     },
     "execution_count": 228,
     "metadata": {},
     "output_type": "execute_result"
    },
    {
     "data": {
      "text/plain": [
       "'1:40 AM (next day)'"
      ]
     },
     "execution_count": 228,
     "metadata": {},
     "output_type": "execute_result"
    },
    {
     "data": {
      "text/plain": [
       "'12:03 AM, Thursday (2 days later)'"
      ]
     },
     "execution_count": 228,
     "metadata": {},
     "output_type": "execute_result"
    },
    {
     "data": {
      "text/plain": [
       "'7:42 AM (9 days later)'"
      ]
     },
     "execution_count": 228,
     "metadata": {},
     "output_type": "execute_result"
    }
   ],
   "source": [
    "# build a time calculator project\n",
    "def add_time(start_time: str , duration: str, starting_day_of_week: str | None = None) -> str:\n",
    "    \"\"\"\n",
    "    Adds a duration to a start time and returns the result in 12-hour format.\n",
    "    \n",
    "    Args:\n",
    "        start_time (str): The starting time, e.g., \"3:00 PM\".\n",
    "        duration (str): The duration to add, e.g., \"3:10\".\n",
    "        starting_day_of_week (str, optional): The starting day of the week, e.g., \"Monday\".\n",
    "    \n",
    "    Returns:\n",
    "        str: The new time, formatted appropriately, including day and days passed if relevant.\n",
    "    \"\"\"\n",
    "\n",
    "    # 24 hours * 60 minutes = 1440 minutes per day\n",
    "    minutes_24_hour_cycle = 24 * 60\n",
    "    # lower entire string\n",
    "    starting_day_of_week = starting_day_of_week.lower() if starting_day_of_week else None\n",
    "\n",
    "    # split inputs into variables and convert to integers: \"3:00 PM\", \"3:10\"\n",
    "    time, start_meridiem = start_time.split()\n",
    "    start_hour, start_minute = map(int, time.split(':'))\n",
    "    duration_hour, duration_minute = map(int, duration.split(\":\"))\n",
    "\n",
    "    # convert to 24 hours\n",
    "    start_hour += (12 if start_meridiem == \"PM\" else 0)\n",
    "\n",
    "    # scale values to assume one clock with 1440 minutes (amount of minutes in 24 hours)\n",
    "    current_24_hour_minutes = start_hour * 60 + start_minute\n",
    "    duration_24_hour_minutes = duration_hour * 60 + duration_minute\n",
    "    \n",
    "    combined_24_hour_minutes = current_24_hour_minutes + duration_24_hour_minutes\n",
    "    combined_quotient, combined_remainder = divmod(combined_24_hour_minutes, minutes_24_hour_cycle)\n",
    "\n",
    "    final_hour = (combined_24_hour_minutes//60) % 12 # Extract hours in a 12-hour format\n",
    "    final_hour = 12 if final_hour == 0 else final_hour # handle the special case for 12 o'clock\n",
    "    final_minute = combined_24_hour_minutes % 60 # Extract remaining minutes\n",
    "    \n",
    "    final_time = f\"{final_hour}:{final_minute:02d}\"\n",
    "\n",
    "    # convert back to 12 hour format: [0, 720) minutes is AM\n",
    "    final_time_output = f\"{final_time} AM\" if (0 <= combined_remainder < 720) else f\"{final_time} PM\"\n",
    "\n",
    "    # optional argument\n",
    "    if combined_quotient <= 0 and starting_day_of_week:\n",
    "        final_time_output += f\", {starting_day_of_week.title()}\"\n",
    " \n",
    "    # new day (passed 24 hours)\n",
    "    if combined_quotient > 0:\n",
    "        result_output = f\" (next day)\" if combined_quotient == 1 else f\" ({combined_quotient} days later)\"\n",
    "\n",
    "        if starting_day_of_week:\n",
    "            list_weekdays = ['monday', 'tuesday', 'wednesday', 'thursday', 'friday', 'saturday', 'sunday']\n",
    "            start_idx = list_weekdays.index(starting_day_of_week)\n",
    "            new_idx = ((start_idx + combined_quotient) % len(list_weekdays)) # convert list of weekdays into a clock of weekdays\n",
    "            new_day = list_weekdays[new_idx] # str\n",
    "            \n",
    "            optional_output = f\", {new_day.title()}\"\n",
    "            final_time_output = f\"{final_time_output}{optional_output}{result_output}\"\n",
    "        else:\n",
    "            final_time_output = f\"{final_time_output}{result_output}\"        \n",
    "\n",
    "    return final_time_output\n",
    "\n",
    "add_time('3:00 PM', '3:10')\n",
    "# Returns: 6:10 PM\n",
    "\n",
    "add_time('11:30 AM', '2:32', 'Monday')\n",
    "# Returns: 2:02 PM, Monday\n",
    "\n",
    "add_time('11:43 AM', '00:20')\n",
    "# Returns: 12:03 PM\n",
    "\n",
    "add_time('10:10 PM', '3:30')\n",
    "# Returns: 1:40 AM (next day)\n",
    "\n",
    "add_time('11:43 PM', '24:20', 'tueSday')\n",
    "# Returns: 12:03 AM, Thursday (2 days later)\n",
    "\n",
    "add_time('6:30 PM', '205:12')\n",
    "# Returns: 7:42 AM (9 days later)"
   ]
  }
 ],
 "metadata": {
  "kernelspec": {
   "display_name": "jl",
   "language": "python",
   "name": "python3"
  },
  "language_info": {
   "codemirror_mode": {
    "name": "ipython",
    "version": 3
   },
   "file_extension": ".py",
   "mimetype": "text/x-python",
   "name": "python",
   "nbconvert_exporter": "python",
   "pygments_lexer": "ipython3",
   "version": "3.12.7"
  }
 },
 "nbformat": 4,
 "nbformat_minor": 2
}
